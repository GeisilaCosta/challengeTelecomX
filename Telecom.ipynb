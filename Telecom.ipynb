{
  "nbformat": 4,
  "nbformat_minor": 0,
  "metadata": {
    "colab": {
      "provenance": [],
      "authorship_tag": "ABX9TyPSZig5VOePC9I55qy4FTzG",
      "include_colab_link": true
    },
    "kernelspec": {
      "name": "python3",
      "display_name": "Python 3"
    },
    "language_info": {
      "name": "python"
    }
  },
  "cells": [
    {
      "cell_type": "markdown",
      "metadata": {
        "id": "view-in-github",
        "colab_type": "text"
      },
      "source": [
        "<a href=\"https://colab.research.google.com/github/GeisilaCosta/challengeTelecomX/blob/main/Telecom.ipynb\" target=\"_parent\"><img src=\"https://colab.research.google.com/assets/colab-badge.svg\" alt=\"Open In Colab\"/></a>"
      ]
    },
    {
      "cell_type": "code",
      "execution_count": null,
      "metadata": {
        "colab": {
          "base_uri": "https://localhost:8080/"
        },
        "id": "ivzOBo8SwTjE",
        "outputId": "f7c503c6-b908-496f-d920-91897e97dfb4"
      },
      "outputs": [
        {
          "output_type": "stream",
          "name": "stdout",
          "text": [
            "Requirement already satisfied: pandas in /usr/local/lib/python3.11/dist-packages (2.2.2)\n",
            "Requirement already satisfied: requests in /usr/local/lib/python3.11/dist-packages (2.32.3)\n",
            "Requirement already satisfied: numpy>=1.23.2 in /usr/local/lib/python3.11/dist-packages (from pandas) (2.0.2)\n",
            "Requirement already satisfied: python-dateutil>=2.8.2 in /usr/local/lib/python3.11/dist-packages (from pandas) (2.9.0.post0)\n",
            "Requirement already satisfied: pytz>=2020.1 in /usr/local/lib/python3.11/dist-packages (from pandas) (2025.2)\n",
            "Requirement already satisfied: tzdata>=2022.7 in /usr/local/lib/python3.11/dist-packages (from pandas) (2025.2)\n",
            "Requirement already satisfied: charset-normalizer<4,>=2 in /usr/local/lib/python3.11/dist-packages (from requests) (3.4.2)\n",
            "Requirement already satisfied: idna<4,>=2.5 in /usr/local/lib/python3.11/dist-packages (from requests) (3.10)\n",
            "Requirement already satisfied: urllib3<3,>=1.21.1 in /usr/local/lib/python3.11/dist-packages (from requests) (2.4.0)\n",
            "Requirement already satisfied: certifi>=2017.4.17 in /usr/local/lib/python3.11/dist-packages (from requests) (2025.6.15)\n",
            "Requirement already satisfied: six>=1.5 in /usr/local/lib/python3.11/dist-packages (from python-dateutil>=2.8.2->pandas) (1.17.0)\n"
          ]
        }
      ],
      "source": [
        "pip install pandas requests"
      ]
    },
    {
      "cell_type": "code",
      "source": [
        "import pandas as pd\n",
        "import requests\n",
        "\n",
        "# URL da API (substitua pelo link correto se necessário)\n",
        "url = \"https://raw.githubusercontent.com/ingridcristh/challenge2-data-science/main/TelecomX_Data.json\"\n",
        "\n",
        "# Fazendo a requisição\n",
        "response = requests.get(url)\n",
        "\n",
        "# Verificando se a requisição foi bem-sucedida\n",
        "if response.status_code == 200:\n",
        "    data = response.json()  # Converte a resposta em JSON\n",
        "    print(\"Dados carregados com sucesso!\")\n",
        "else:\n",
        "    print(f\"Erro ao carregar os dados. Código de status: {response.status_code}\")\n",
        "\n",
        "    # Lê o arquivo JSON e converte em DataFrame\n",
        "df = pd.read_json(url)"
      ],
      "metadata": {
        "colab": {
          "base_uri": "https://localhost:8080/"
        },
        "id": "BR5LChwD62L0",
        "outputId": "fe854497-066f-4509-c21e-c4cd47f48406"
      },
      "execution_count": 3,
      "outputs": [
        {
          "output_type": "stream",
          "name": "stdout",
          "text": [
            "Dados carregados com sucesso!\n"
          ]
        }
      ]
    },
    {
      "cell_type": "code",
      "source": [
        "# Primeiras linhas para visualizar o conteúdo\n",
        "print(df.head())\n",
        "\n",
        "# Ver todas as colunas disponíveis\n",
        "print(df.columns)\n",
        "\n",
        "# Ver o shape (linhas, colunas)\n",
        "print(f\"O DataFrame possui {df.shape[0]} linhas e {df.shape[1]} colunas.\")\n",
        "\n",
        "# Tipos de dados de cada coluna\n",
        "print(df.dtypes)\n",
        "\n",
        "# Informações gerais: tipos, não-nulos, memória usada\n",
        "print(df.info())\n"
      ],
      "metadata": {
        "colab": {
          "base_uri": "https://localhost:8080/"
        },
        "id": "T3Zv72w7_De-",
        "outputId": "44f71470-99ae-4b1c-89e3-502794c83067"
      },
      "execution_count": 4,
      "outputs": [
        {
          "output_type": "stream",
          "name": "stdout",
          "text": [
            "   customerID Churn                                           customer  \\\n",
            "0  0002-ORFBO    No  {'gender': 'Female', 'SeniorCitizen': 0, 'Part...   \n",
            "1  0003-MKNFE    No  {'gender': 'Male', 'SeniorCitizen': 0, 'Partne...   \n",
            "2  0004-TLHLJ   Yes  {'gender': 'Male', 'SeniorCitizen': 0, 'Partne...   \n",
            "3  0011-IGKFF   Yes  {'gender': 'Male', 'SeniorCitizen': 1, 'Partne...   \n",
            "4  0013-EXCHZ   Yes  {'gender': 'Female', 'SeniorCitizen': 1, 'Part...   \n",
            "\n",
            "                                             phone  \\\n",
            "0   {'PhoneService': 'Yes', 'MultipleLines': 'No'}   \n",
            "1  {'PhoneService': 'Yes', 'MultipleLines': 'Yes'}   \n",
            "2   {'PhoneService': 'Yes', 'MultipleLines': 'No'}   \n",
            "3   {'PhoneService': 'Yes', 'MultipleLines': 'No'}   \n",
            "4   {'PhoneService': 'Yes', 'MultipleLines': 'No'}   \n",
            "\n",
            "                                            internet  \\\n",
            "0  {'InternetService': 'DSL', 'OnlineSecurity': '...   \n",
            "1  {'InternetService': 'DSL', 'OnlineSecurity': '...   \n",
            "2  {'InternetService': 'Fiber optic', 'OnlineSecu...   \n",
            "3  {'InternetService': 'Fiber optic', 'OnlineSecu...   \n",
            "4  {'InternetService': 'Fiber optic', 'OnlineSecu...   \n",
            "\n",
            "                                             account  \n",
            "0  {'Contract': 'One year', 'PaperlessBilling': '...  \n",
            "1  {'Contract': 'Month-to-month', 'PaperlessBilli...  \n",
            "2  {'Contract': 'Month-to-month', 'PaperlessBilli...  \n",
            "3  {'Contract': 'Month-to-month', 'PaperlessBilli...  \n",
            "4  {'Contract': 'Month-to-month', 'PaperlessBilli...  \n",
            "Index(['customerID', 'Churn', 'customer', 'phone', 'internet', 'account'], dtype='object')\n",
            "O DataFrame possui 7267 linhas e 6 colunas.\n",
            "customerID    object\n",
            "Churn         object\n",
            "customer      object\n",
            "phone         object\n",
            "internet      object\n",
            "account       object\n",
            "dtype: object\n",
            "<class 'pandas.core.frame.DataFrame'>\n",
            "RangeIndex: 7267 entries, 0 to 7266\n",
            "Data columns (total 6 columns):\n",
            " #   Column      Non-Null Count  Dtype \n",
            "---  ------      --------------  ----- \n",
            " 0   customerID  7267 non-null   object\n",
            " 1   Churn       7267 non-null   object\n",
            " 2   customer    7267 non-null   object\n",
            " 3   phone       7267 non-null   object\n",
            " 4   internet    7267 non-null   object\n",
            " 5   account     7267 non-null   object\n",
            "dtypes: object(6)\n",
            "memory usage: 340.8+ KB\n",
            "None\n"
          ]
        }
      ]
    },
    {
      "cell_type": "code",
      "source": [
        "# Expandir colunas com dicionários\n",
        "df_expanded = pd.concat([\n",
        "    df.drop(columns=['customer', 'phone', 'internet', 'account']),\n",
        "    df['customer'].apply(pd.Series),\n",
        "    df['phone'].apply(pd.Series),\n",
        "    df['internet'].apply(pd.Series),\n",
        "    df['account'].apply(pd.Series)\n",
        "], axis=1)\n",
        "\n",
        "# Verificar as novas colunas\n",
        "print(df_expanded.head())\n",
        "print(df_expanded.info())\n"
      ],
      "metadata": {
        "colab": {
          "base_uri": "https://localhost:8080/"
        },
        "id": "jpJsIGJu_e5U",
        "outputId": "6315ea58-d13c-48ea-a828-9262e50ee609"
      },
      "execution_count": 6,
      "outputs": [
        {
          "output_type": "stream",
          "name": "stdout",
          "text": [
            "   customerID Churn  gender  SeniorCitizen Partner Dependents  tenure  \\\n",
            "0  0002-ORFBO    No  Female              0     Yes        Yes       9   \n",
            "1  0003-MKNFE    No    Male              0      No         No       9   \n",
            "2  0004-TLHLJ   Yes    Male              0      No         No       4   \n",
            "3  0011-IGKFF   Yes    Male              1     Yes         No      13   \n",
            "4  0013-EXCHZ   Yes  Female              1     Yes         No       3   \n",
            "\n",
            "  PhoneService MultipleLines InternetService OnlineSecurity OnlineBackup  \\\n",
            "0          Yes            No             DSL             No          Yes   \n",
            "1          Yes           Yes             DSL             No           No   \n",
            "2          Yes            No     Fiber optic             No           No   \n",
            "3          Yes            No     Fiber optic             No          Yes   \n",
            "4          Yes            No     Fiber optic             No           No   \n",
            "\n",
            "  DeviceProtection TechSupport StreamingTV StreamingMovies        Contract  \\\n",
            "0               No         Yes         Yes              No        One year   \n",
            "1               No          No          No             Yes  Month-to-month   \n",
            "2              Yes          No          No              No  Month-to-month   \n",
            "3              Yes          No         Yes             Yes  Month-to-month   \n",
            "4               No         Yes         Yes              No  Month-to-month   \n",
            "\n",
            "  PaperlessBilling     PaymentMethod                                Charges  \n",
            "0              Yes      Mailed check    {'Monthly': 65.6, 'Total': '593.3'}  \n",
            "1               No      Mailed check    {'Monthly': 59.9, 'Total': '542.4'}  \n",
            "2              Yes  Electronic check   {'Monthly': 73.9, 'Total': '280.85'}  \n",
            "3              Yes  Electronic check  {'Monthly': 98.0, 'Total': '1237.85'}  \n",
            "4              Yes      Mailed check    {'Monthly': 83.9, 'Total': '267.4'}  \n",
            "<class 'pandas.core.frame.DataFrame'>\n",
            "RangeIndex: 7267 entries, 0 to 7266\n",
            "Data columns (total 20 columns):\n",
            " #   Column            Non-Null Count  Dtype \n",
            "---  ------            --------------  ----- \n",
            " 0   customerID        7267 non-null   object\n",
            " 1   Churn             7267 non-null   object\n",
            " 2   gender            7267 non-null   object\n",
            " 3   SeniorCitizen     7267 non-null   int64 \n",
            " 4   Partner           7267 non-null   object\n",
            " 5   Dependents        7267 non-null   object\n",
            " 6   tenure            7267 non-null   int64 \n",
            " 7   PhoneService      7267 non-null   object\n",
            " 8   MultipleLines     7267 non-null   object\n",
            " 9   InternetService   7267 non-null   object\n",
            " 10  OnlineSecurity    7267 non-null   object\n",
            " 11  OnlineBackup      7267 non-null   object\n",
            " 12  DeviceProtection  7267 non-null   object\n",
            " 13  TechSupport       7267 non-null   object\n",
            " 14  StreamingTV       7267 non-null   object\n",
            " 15  StreamingMovies   7267 non-null   object\n",
            " 16  Contract          7267 non-null   object\n",
            " 17  PaperlessBilling  7267 non-null   object\n",
            " 18  PaymentMethod     7267 non-null   object\n",
            " 19  Charges           7267 non-null   object\n",
            "dtypes: int64(2), object(18)\n",
            "memory usage: 1.1+ MB\n",
            "None\n"
          ]
        }
      ]
    },
    {
      "cell_type": "code",
      "source": [
        "# Expandir a coluna Charges em duas colunas separadas\n",
        "charges_df = df_expanded['Charges'].apply(pd.Series)\n",
        "\n",
        "# Concatenar com o dataframe original e remover a antiga\n",
        "df_expanded = pd.concat([df_expanded.drop(columns=['Charges']), charges_df.rename(columns={\n",
        "    'Monthly': 'MonthlyCharges',\n",
        "    'Total': 'TotalCharges'\n",
        "})], axis=1)\n",
        "\n",
        "# Converter TotalCharges para numérico (alguns valores podem ser espaços vazios)\n",
        "df_expanded['TotalCharges'] = pd.to_numeric(df_expanded['TotalCharges'], errors='coerce')\n"
      ],
      "metadata": {
        "id": "SsbtEvmkBOrD"
      },
      "execution_count": 7,
      "outputs": []
    },
    {
      "cell_type": "code",
      "source": [
        "# Valores nulos\n",
        "print(\"Valores nulos por coluna:\")\n",
        "print(df_expanded.isnull().sum())\n",
        "\n",
        "# Ver registros duplicados\n",
        "print(f\"\\nRegistros duplicados: {df_expanded.duplicated().sum()}\")\n"
      ],
      "metadata": {
        "colab": {
          "base_uri": "https://localhost:8080/"
        },
        "id": "fhpBKBaQBR_n",
        "outputId": "68c87188-7a17-4013-8cc7-f142c3b5b0d8"
      },
      "execution_count": 8,
      "outputs": [
        {
          "output_type": "stream",
          "name": "stdout",
          "text": [
            "Valores nulos por coluna:\n",
            "customerID           0\n",
            "Churn                0\n",
            "gender               0\n",
            "SeniorCitizen        0\n",
            "Partner              0\n",
            "Dependents           0\n",
            "tenure               0\n",
            "PhoneService         0\n",
            "MultipleLines        0\n",
            "InternetService      0\n",
            "OnlineSecurity       0\n",
            "OnlineBackup         0\n",
            "DeviceProtection     0\n",
            "TechSupport          0\n",
            "StreamingTV          0\n",
            "StreamingMovies      0\n",
            "Contract             0\n",
            "PaperlessBilling     0\n",
            "PaymentMethod        0\n",
            "MonthlyCharges       0\n",
            "TotalCharges        11\n",
            "dtype: int64\n",
            "\n",
            "Registros duplicados: 0\n"
          ]
        }
      ]
    },
    {
      "cell_type": "code",
      "source": [
        "# Estatísticas das variáveis numéricas\n",
        "print(df_expanded[['tenure', 'MonthlyCharges', 'TotalCharges']].describe())\n"
      ],
      "metadata": {
        "colab": {
          "base_uri": "https://localhost:8080/"
        },
        "id": "FRU_MxO-BYNu",
        "outputId": "4eae26c5-98e1-47f0-aa50-9ff466d6f8a6"
      },
      "execution_count": 9,
      "outputs": [
        {
          "output_type": "stream",
          "name": "stdout",
          "text": [
            "            tenure  MonthlyCharges  TotalCharges\n",
            "count  7267.000000     7267.000000   7256.000000\n",
            "mean     32.346498       64.720098   2280.634213\n",
            "std      24.571773       30.129572   2268.632997\n",
            "min       0.000000       18.250000     18.800000\n",
            "25%       9.000000       35.425000    400.225000\n",
            "50%      29.000000       70.300000   1391.000000\n",
            "75%      55.000000       89.875000   3785.300000\n",
            "max      72.000000      118.750000   8684.800000\n"
          ]
        }
      ]
    },
    {
      "cell_type": "code",
      "source": [
        "# Exemplo: proporção de clientes que cancelaram por tipo de contrato\n",
        "import seaborn as sns\n",
        "import matplotlib.pyplot as plt\n",
        "\n",
        "plt.figure(figsize=(8,4))\n",
        "sns.countplot(data=df_expanded, x='Contract', hue='Churn')\n",
        "plt.title('Churn por Tipo de Contrato')\n",
        "plt.show()\n"
      ],
      "metadata": {
        "colab": {
          "base_uri": "https://localhost:8080/",
          "height": 410
        },
        "id": "7TpsJXleBbk2",
        "outputId": "b04f0fed-4ae6-4985-87ed-309bbedebd0c"
      },
      "execution_count": 10,
      "outputs": [
        {
          "output_type": "display_data",
          "data": {
            "text/plain": [
              "<Figure size 800x400 with 1 Axes>"
            ],
            "image/png": "[encoded data removed]"
          },
          "metadata": {}
        }
      ]
    },
    {
      "cell_type": "code",
      "source": [
        "# Churn por método de pagamento\n",
        "sns.countplot(data=df_expanded, x='PaymentMethod', hue='Churn')\n",
        "plt.title('Churn por Método de Pagamento')\n",
        "plt.xticks(rotation=45)\n",
        "plt.show()\n",
        "\n",
        "# Churn por InternetService\n",
        "sns.countplot(data=df_expanded, x='InternetService', hue='Churn')\n",
        "plt.title('Churn por Tipo de Internet')\n",
        "plt.show()\n"
      ],
      "metadata": {
        "colab": {
          "base_uri": "https://localhost:8080/",
          "height": 1000
        },
        "id": "ffcZKSecBetx",
        "outputId": "dc0fa5be-9a83-4721-c7af-5ff4438526b9"
      },
      "execution_count": 11,
      "outputs": [
        {
          "output_type": "display_data",
          "data": {
            "text/plain": [
              "<Figure size 640x480 with 1 Axes>"
            ],
            "image/png": "[encoded data removed]"
          },
          "metadata": {}
        },
        {
          "output_type": "display_data",
          "data": {
            "text/plain": [
              "<Figure size 640x480 with 1 Axes>"
            ],
            "image/png": "[encoded data removed]"
          },
          "metadata": {}
        }
      ]
    },
    {
      "cell_type": "code",
      "source": [
        "# Converter TotalCharges na df_expanded para numérico (alguns valores podem ser espaços vazios)\n",
        "# A coluna já foi renomeada para TotalCharges na expansão anterior\n",
        "df_expanded['TotalCharges'] = pd.to_numeric(df_expanded['TotalCharges'], errors='coerce')\n",
        "\n",
        "# Substituir variações \"No internet service\"/\"No phone service\" por \"No\" na df_expanded\n",
        "# Estas colunas já foram expandidas na df_expanded\n",
        "for col in ['MultipleLines','OnlineSecurity','OnlineBackup','DeviceProtection','TechSupport','StreamingTV','StreamingMovies']:\n",
        "    # Verifica se a coluna existe na df_expanded antes de tentar substituir\n",
        "    if col in df_expanded.columns:\n",
        "        df_expanded[col] = df_expanded[col].replace({'No internet service':'No', 'No phone service':'No'})\n",
        "    else:\n",
        "        print(f\"A coluna '{col}' não foi encontrada na df_expanded.\")\n",
        "\n",
        "\n",
        "# Verificar tipos, nulos, estatísticas na df_expanded\n",
        "print(df_expanded.dtypes)\n",
        "print(df_expanded.isnull().sum())\n",
        "# A coluna de churn está na df_expanded\n",
        "print(df_expanded[['tenure','MonthlyCharges','TotalCharges']].describe())\n",
        "print(df_expanded['Churn'].value_counts(normalize=True))\n"
      ],
      "metadata": {
        "colab": {
          "base_uri": "https://localhost:8080/"
        },
        "id": "dStn4mcbCGCN",
        "outputId": "eef95a2f-0868-4e44-82d9-14440c939aa3"
      },
      "execution_count": 13,
      "outputs": [
        {
          "output_type": "stream",
          "name": "stdout",
          "text": [
            "customerID           object\n",
            "Churn                object\n",
            "gender               object\n",
            "SeniorCitizen         int64\n",
            "Partner              object\n",
            "Dependents           object\n",
            "tenure                int64\n",
            "PhoneService         object\n",
            "MultipleLines        object\n",
            "InternetService      object\n",
            "OnlineSecurity       object\n",
            "OnlineBackup         object\n",
            "DeviceProtection     object\n",
            "TechSupport          object\n",
            "StreamingTV          object\n",
            "StreamingMovies      object\n",
            "Contract             object\n",
            "PaperlessBilling     object\n",
            "PaymentMethod        object\n",
            "MonthlyCharges      float64\n",
            "TotalCharges        float64\n",
            "dtype: object\n",
            "customerID           0\n",
            "Churn                0\n",
            "gender               0\n",
            "SeniorCitizen        0\n",
            "Partner              0\n",
            "Dependents           0\n",
            "tenure               0\n",
            "PhoneService         0\n",
            "MultipleLines        0\n",
            "InternetService      0\n",
            "OnlineSecurity       0\n",
            "OnlineBackup         0\n",
            "DeviceProtection     0\n",
            "TechSupport          0\n",
            "StreamingTV          0\n",
            "StreamingMovies      0\n",
            "Contract             0\n",
            "PaperlessBilling     0\n",
            "PaymentMethod        0\n",
            "MonthlyCharges       0\n",
            "TotalCharges        11\n",
            "dtype: int64\n",
            "            tenure  MonthlyCharges  TotalCharges\n",
            "count  7267.000000     7267.000000   7256.000000\n",
            "mean     32.346498       64.720098   2280.634213\n",
            "std      24.571773       30.129572   2268.632997\n",
            "min       0.000000       18.250000     18.800000\n",
            "25%       9.000000       35.425000    400.225000\n",
            "50%      29.000000       70.300000   1391.000000\n",
            "75%      55.000000       89.875000   3785.300000\n",
            "max      72.000000      118.750000   8684.800000\n",
            "Churn\n",
            "No     0.711986\n",
            "Yes    0.257190\n",
            "       0.030824\n",
            "Name: proportion, dtype: float64\n"
          ]
        }
      ]
    },
    {
      "cell_type": "code",
      "source": [
        "print(df_expanded['Churn'].unique())\n"
      ],
      "metadata": {
        "colab": {
          "base_uri": "https://localhost:8080/"
        },
        "id": "IdQ66r70C3CK",
        "outputId": "923a89e7-bdee-4127-cfe9-eb316cc91552"
      },
      "execution_count": 14,
      "outputs": [
        {
          "output_type": "stream",
          "name": "stdout",
          "text": [
            "['No' 'Yes' '']\n"
          ]
        }
      ]
    },
    {
      "cell_type": "code",
      "source": [
        "# Remover espaços em branco da coluna Churn\n",
        "df_expanded['Churn'] = df_expanded['Churn'].str.strip()\n",
        "\n",
        "# Confirmar novamente os valores únicos\n",
        "print(df_expanded['Churn'].unique())\n"
      ],
      "metadata": {
        "colab": {
          "base_uri": "https://localhost:8080/"
        },
        "id": "lEg16LiJC64C",
        "outputId": "b0b5ba8b-e74c-4e13-8013-b1ef43ea910a"
      },
      "execution_count": 15,
      "outputs": [
        {
          "output_type": "stream",
          "name": "stdout",
          "text": [
            "['No' 'Yes' '']\n"
          ]
        }
      ]
    },
    {
      "cell_type": "code",
      "source": [
        "df_expanded[df_expanded['TotalCharges'].isnull()][['customerID', 'tenure', 'MonthlyCharges', 'TotalCharges']]\n"
      ],
      "metadata": {
        "colab": {
          "base_uri": "https://localhost:8080/",
          "height": 394
        },
        "id": "V3lGARxoC-6t",
        "outputId": "aead1011-ed52-49af-f1a8-435589666a73"
      },
      "execution_count": 16,
      "outputs": [
        {
          "output_type": "execute_result",
          "data": {
            "text/plain": [
              "      customerID  tenure  MonthlyCharges  TotalCharges\n",
              "975   1371-DWPAZ       0           56.05           NaN\n",
              "1775  2520-SGTTA       0           20.00           NaN\n",
              "1955  2775-SEFEE       0           61.90           NaN\n",
              "2075  2923-ARZLG       0           19.70           NaN\n",
              "2232  3115-CZMZD       0           20.25           NaN\n",
              "2308  3213-VVOLG       0           25.35           NaN\n",
              "2930  4075-WKNIU       0           73.35           NaN\n",
              "3134  4367-NUYAO       0           25.75           NaN\n",
              "3203  4472-LVYGI       0           52.55           NaN\n",
              "4169  5709-LVOEQ       0           80.85           NaN\n",
              "5599  7644-OMVMY       0           19.85           NaN"
            ],
            "text/html": [
              "\n",
              "  <div id=\"df-3f73e867-1113-4752-b08f-e85b4ee4e2fd\" class=\"colab-df-container\">\n",
              "    <div>\n",
              "<style scoped>\n",
              "    .dataframe tbody tr th:only-of-type {\n",
              "        vertical-align: middle;\n",
              "    }\n",
              "\n",
              "    .dataframe tbody tr th {\n",
              "        vertical-align: top;\n",
              "    }\n",
              "\n",
              "    .dataframe thead th {\n",
              "        text-align: right;\n",
              "    }\n",
              "</style>\n",
              "<table border=\"1\" class=\"dataframe\">\n",
              "  <thead>\n",
              "    <tr style=\"text-align: right;\">\n",
              "      <th></th>\n",
              "      <th>customerID</th>\n",
              "      <th>tenure</th>\n",
              "      <th>MonthlyCharges</th>\n",
              "      <th>TotalCharges</th>\n",
              "    </tr>\n",
              "  </thead>\n",
              "  <tbody>\n",
              "    <tr>\n",
              "      <th>975</th>\n",
              "      <td>1371-DWPAZ</td>\n",
              "      <td>0</td>\n",
              "      <td>56.05</td>\n",
              "      <td>NaN</td>\n",
              "    </tr>\n",
              "    <tr>\n",
              "      <th>1775</th>\n",
              "      <td>2520-SGTTA</td>\n",
              "      <td>0</td>\n",
              "      <td>20.00</td>\n",
              "      <td>NaN</td>\n",
              "    </tr>\n",
              "    <tr>\n",
              "      <th>1955</th>\n",
              "      <td>2775-SEFEE</td>\n",
              "      <td>0</td>\n",
              "      <td>61.90</td>\n",
              "      <td>NaN</td>\n",
              "    </tr>\n",
              "    <tr>\n",
              "      <th>2075</th>\n",
              "      <td>2923-ARZLG</td>\n",
              "      <td>0</td>\n",
              "      <td>19.70</td>\n",
              "      <td>NaN</td>\n",
              "    </tr>\n",
              "    <tr>\n",
              "      <th>2232</th>\n",
              "      <td>3115-CZMZD</td>\n",
              "      <td>0</td>\n",
              "      <td>20.25</td>\n",
              "      <td>NaN</td>\n",
              "    </tr>\n",
              "    <tr>\n",
              "      <th>2308</th>\n",
              "      <td>3213-VVOLG</td>\n",
              "      <td>0</td>\n",
              "      <td>25.35</td>\n",
              "      <td>NaN</td>\n",
              "    </tr>\n",
              "    <tr>\n",
              "      <th>2930</th>\n",
              "      <td>4075-WKNIU</td>\n",
              "      <td>0</td>\n",
              "      <td>73.35</td>\n",
              "      <td>NaN</td>\n",
              "    </tr>\n",
              "    <tr>\n",
              "      <th>3134</th>\n",
              "      <td>4367-NUYAO</td>\n",
              "      <td>0</td>\n",
              "      <td>25.75</td>\n",
              "      <td>NaN</td>\n",
              "    </tr>\n",
              "    <tr>\n",
              "      <th>3203</th>\n",
              "      <td>4472-LVYGI</td>\n",
              "      <td>0</td>\n",
              "      <td>52.55</td>\n",
              "      <td>NaN</td>\n",
              "    </tr>\n",
              "    <tr>\n",
              "      <th>4169</th>\n",
              "      <td>5709-LVOEQ</td>\n",
              "      <td>0</td>\n",
              "      <td>80.85</td>\n",
              "      <td>NaN</td>\n",
              "    </tr>\n",
              "    <tr>\n",
              "      <th>5599</th>\n",
              "      <td>7644-OMVMY</td>\n",
              "      <td>0</td>\n",
              "      <td>19.85</td>\n",
              "      <td>NaN</td>\n",
              "    </tr>\n",
              "  </tbody>\n",
              "</table>\n",
              "</div>\n",
              "    <div class=\"colab-df-buttons\">\n",
              "\n",
              "  <div class=\"colab-df-container\">\n",
              "    <button class=\"colab-df-convert\" onclick=\"convertToInteractive('df-3f73e867-1113-4752-b08f-e85b4ee4e2fd')\"\n",
              "            title=\"Convert this dataframe to an interactive table.\"\n",
              "            style=\"display:none;\">\n",
              "\n",
              "  <svg xmlns=\"http://www.w3.org/2000/svg\" height=\"24px\" viewBox=\"0 -960 960 960\">\n",
              "    <path d=\"M120-120v-720h720v720H120Zm60-500h600v-160H180v160Zm220 220h160v-160H400v160Zm0 220h160v-160H400v160ZM180-400h160v-160H180v160Zm440 0h160v-160H620v160ZM180-180h160v-160H180v160Zm440 0h160v-160H620v160Z\"/>\n",
              "  </svg>\n",
              "    </button>\n",
              "\n",
              "  <style>\n",
              "    .colab-df-container {\n",
              "      display:flex;\n",
              "      gap: 12px;\n",
              "    }\n",
              "\n",
              "    .colab-df-convert {\n",
              "      background-color: #E8F0FE;\n",
              "      border: none;\n",
              "      border-radius: 50%;\n",
              "      cursor: pointer;\n",
              "      display: none;\n",
              "      fill: #1967D2;\n",
              "      height: 32px;\n",
              "      padding: 0 0 0 0;\n",
              "      width: 32px;\n",
              "    }\n",
              "\n",
              "    .colab-df-convert:hover {\n",
              "      background-color: #E2EBFA;\n",
              "      box-shadow: 0px 1px 2px rgba(60, 64, 67, 0.3), 0px 1px 3px 1px rgba(60, 64, 67, 0.15);\n",
              "      fill: #174EA6;\n",
              "    }\n",
              "\n",
              "    .colab-df-buttons div {\n",
              "      margin-bottom: 4px;\n",
              "    }\n",
              "\n",
              "    [theme=dark] .colab-df-convert {\n",
              "      background-color: #3B4455;\n",
              "      fill: #D2E3FC;\n",
              "    }\n",
              "\n",
              "    [theme=dark] .colab-df-convert:hover {\n",
              "      background-color: #434B5C;\n",
              "      box-shadow: 0px 1px 3px 1px rgba(0, 0, 0, 0.15);\n",
              "      filter: drop-shadow(0px 1px 2px rgba(0, 0, 0, 0.3));\n",
              "      fill: #FFFFFF;\n",
              "    }\n",
              "  </style>\n",
              "\n",
              "    <script>\n",
              "      const buttonEl =\n",
              "        document.querySelector('#df-3f73e867-1113-4752-b08f-e85b4ee4e2fd button.colab-df-convert');\n",
              "      buttonEl.style.display =\n",
              "        google.colab.kernel.accessAllowed ? 'block' : 'none';\n",
              "\n",
              "      async function convertToInteractive(key) {\n",
              "        const element = document.querySelector('#df-3f73e867-1113-4752-b08f-e85b4ee4e2fd');\n",
              "        const dataTable =\n",
              "          await google.colab.kernel.invokeFunction('convertToInteractive',\n",
              "                                                    [key], {});\n",
              "        if (!dataTable) return;\n",
              "\n",
              "        const docLinkHtml = 'Like what you see? Visit the ' +\n",
              "          '<a target=\"_blank\" href=https://colab.research.google.com/notebooks/data_table.ipynb>data table notebook</a>'\n",
              "          + ' to learn more about interactive tables.';\n",
              "        element.innerHTML = '';\n",
              "        dataTable['output_type'] = 'display_data';\n",
              "        await google.colab.output.renderOutput(dataTable, element);\n",
              "        const docLink = document.createElement('div');\n",
              "        docLink.innerHTML = docLinkHtml;\n",
              "        element.appendChild(docLink);\n",
              "      }\n",
              "    </script>\n",
              "  </div>\n",
              "\n",
              "\n",
              "    <div id=\"df-20d04db4-6cfc-4d4c-a4db-183beb430d17\">\n",
              "      <button class=\"colab-df-quickchart\" onclick=\"quickchart('df-20d04db4-6cfc-4d4c-a4db-183beb430d17')\"\n",
              "                title=\"Suggest charts\"\n",
              "                style=\"display:none;\">\n",
              "\n",
              "<svg xmlns=\"http://www.w3.org/2000/svg\" height=\"24px\"viewBox=\"0 0 24 24\"\n",
              "     width=\"24px\">\n",
              "    <g>\n",
              "        <path d=\"M19 3H5c-1.1 0-2 .9-2 2v14c0 1.1.9 2 2 2h14c1.1 0 2-.9 2-2V5c0-1.1-.9-2-2-2zM9 17H7v-7h2v7zm4 0h-2V7h2v10zm4 0h-2v-4h2v4z\"/>\n",
              "    </g>\n",
              "</svg>\n",
              "      </button>\n",
              "\n",
              "<style>\n",
              "  .colab-df-quickchart {\n",
              "      --bg-color: #E8F0FE;\n",
              "      --fill-color: #1967D2;\n",
              "      --hover-bg-color: #E2EBFA;\n",
              "      --hover-fill-color: #174EA6;\n",
              "      --disabled-fill-color: #AAA;\n",
              "      --disabled-bg-color: #DDD;\n",
              "  }\n",
              "\n",
              "  [theme=dark] .colab-df-quickchart {\n",
              "      --bg-color: #3B4455;\n",
              "      --fill-color: #D2E3FC;\n",
              "      --hover-bg-color: #434B5C;\n",
              "      --hover-fill-color: #FFFFFF;\n",
              "      --disabled-bg-color: #3B4455;\n",
              "      --disabled-fill-color: #666;\n",
              "  }\n",
              "\n",
              "  .colab-df-quickchart {\n",
              "    background-color: var(--bg-color);\n",
              "    border: none;\n",
              "    border-radius: 50%;\n",
              "    cursor: pointer;\n",
              "    display: none;\n",
              "    fill: var(--fill-color);\n",
              "    height: 32px;\n",
              "    padding: 0;\n",
              "    width: 32px;\n",
              "  }\n",
              "\n",
              "  .colab-df-quickchart:hover {\n",
              "    background-color: var(--hover-bg-color);\n",
              "    box-shadow: 0 1px 2px rgba(60, 64, 67, 0.3), 0 1px 3px 1px rgba(60, 64, 67, 0.15);\n",
              "    fill: var(--button-hover-fill-color);\n",
              "  }\n",
              "\n",
              "  .colab-df-quickchart-complete:disabled,\n",
              "  .colab-df-quickchart-complete:disabled:hover {\n",
              "    background-color: var(--disabled-bg-color);\n",
              "    fill: var(--disabled-fill-color);\n",
              "    box-shadow: none;\n",
              "  }\n",
              "\n",
              "  .colab-df-spinner {\n",
              "    border: 2px solid var(--fill-color);\n",
              "    border-color: transparent;\n",
              "    border-bottom-color: var(--fill-color);\n",
              "    animation:\n",
              "      spin 1s steps(1) infinite;\n",
              "  }\n",
              "\n",
              "  @keyframes spin {\n",
              "    0% {\n",
              "      border-color: transparent;\n",
              "      border-bottom-color: var(--fill-color);\n",
              "      border-left-color: var(--fill-color);\n",
              "    }\n",
              "    20% {\n",
              "      border-color: transparent;\n",
              "      border-left-color: var(--fill-color);\n",
              "      border-top-color: var(--fill-color);\n",
              "    }\n",
              "    30% {\n",
              "      border-color: transparent;\n",
              "      border-left-color: var(--fill-color);\n",
              "      border-top-color: var(--fill-color);\n",
              "      border-right-color: var(--fill-color);\n",
              "    }\n",
              "    40% {\n",
              "      border-color: transparent;\n",
              "      border-right-color: var(--fill-color);\n",
              "      border-top-color: var(--fill-color);\n",
              "    }\n",
              "    60% {\n",
              "      border-color: transparent;\n",
              "      border-right-color: var(--fill-color);\n",
              "    }\n",
              "    80% {\n",
              "      border-color: transparent;\n",
              "      border-right-color: var(--fill-color);\n",
              "      border-bottom-color: var(--fill-color);\n",
              "    }\n",
              "    90% {\n",
              "      border-color: transparent;\n",
              "      border-bottom-color: var(--fill-color);\n",
              "    }\n",
              "  }\n",
              "</style>\n",
              "\n",
              "      <script>\n",
              "        async function quickchart(key) {\n",
              "          const quickchartButtonEl =\n",
              "            document.querySelector('#' + key + ' button');\n",
              "          quickchartButtonEl.disabled = true;  // To prevent multiple clicks.\n",
              "          quickchartButtonEl.classList.add('colab-df-spinner');\n",
              "          try {\n",
              "            const charts = await google.colab.kernel.invokeFunction(\n",
              "                'suggestCharts', [key], {});\n",
              "          } catch (error) {\n",
              "            console.error('Error during call to suggestCharts:', error);\n",
              "          }\n",
              "          quickchartButtonEl.classList.remove('colab-df-spinner');\n",
              "          quickchartButtonEl.classList.add('colab-df-quickchart-complete');\n",
              "        }\n",
              "        (() => {\n",
              "          let quickchartButtonEl =\n",
              "            document.querySelector('#df-20d04db4-6cfc-4d4c-a4db-183beb430d17 button');\n",
              "          quickchartButtonEl.style.display =\n",
              "            google.colab.kernel.accessAllowed ? 'block' : 'none';\n",
              "        })();\n",
              "      </script>\n",
              "    </div>\n",
              "\n",
              "    </div>\n",
              "  </div>\n"
            ],
            "application/vnd.google.colaboratory.intrinsic+json": {
              "type": "dataframe",
              "summary": "{\n  \"name\": \"df_expanded[df_expanded['TotalCharges']\",\n  \"rows\": 11,\n  \"fields\": [\n    {\n      \"column\": \"customerID\",\n      \"properties\": {\n        \"dtype\": \"string\",\n        \"num_unique_values\": 11,\n        \"samples\": [\n          \"3213-VVOLG\",\n          \"1371-DWPAZ\",\n          \"5709-LVOEQ\"\n        ],\n        \"semantic_type\": \"\",\n        \"description\": \"\"\n      }\n    },\n    {\n      \"column\": \"tenure\",\n      \"properties\": {\n        \"dtype\": \"number\",\n        \"std\": 0,\n        \"min\": 0,\n        \"max\": 0,\n        \"num_unique_values\": 1,\n        \"samples\": [\n          0\n        ],\n        \"semantic_type\": \"\",\n        \"description\": \"\"\n      }\n    },\n    {\n      \"column\": \"MonthlyCharges\",\n      \"properties\": {\n        \"dtype\": \"number\",\n        \"std\": 23.83148414101892,\n        \"min\": 19.7,\n        \"max\": 80.85,\n        \"num_unique_values\": 11,\n        \"samples\": [\n          25.35\n        ],\n        \"semantic_type\": \"\",\n        \"description\": \"\"\n      }\n    },\n    {\n      \"column\": \"TotalCharges\",\n      \"properties\": {\n        \"dtype\": \"number\",\n        \"std\": null,\n        \"min\": null,\n        \"max\": null,\n        \"num_unique_values\": 0,\n        \"samples\": [],\n        \"semantic_type\": \"\",\n        \"description\": \"\"\n      }\n    }\n  ]\n}"
            }
          },
          "metadata": {},
          "execution_count": 16
        }
      ]
    },
    {
      "cell_type": "code",
      "source": [
        "# Verificar valores ausentes por coluna\n",
        "print(df_expanded.isnull().sum().sort_values(ascending=False))\n"
      ],
      "metadata": {
        "colab": {
          "base_uri": "https://localhost:8080/"
        },
        "id": "XjagIQf2DSJQ",
        "outputId": "ef2cb3d6-3929-4cc8-eed3-3d44f3f3d74b"
      },
      "execution_count": 17,
      "outputs": [
        {
          "output_type": "stream",
          "name": "stdout",
          "text": [
            "TotalCharges        11\n",
            "Churn                0\n",
            "gender               0\n",
            "SeniorCitizen        0\n",
            "customerID           0\n",
            "Partner              0\n",
            "Dependents           0\n",
            "PhoneService         0\n",
            "tenure               0\n",
            "InternetService      0\n",
            "OnlineSecurity       0\n",
            "OnlineBackup         0\n",
            "MultipleLines        0\n",
            "DeviceProtection     0\n",
            "TechSupport          0\n",
            "StreamingMovies      0\n",
            "StreamingTV          0\n",
            "Contract             0\n",
            "PaperlessBilling     0\n",
            "PaymentMethod        0\n",
            "MonthlyCharges       0\n",
            "dtype: int64\n"
          ]
        }
      ]
    },
    {
      "cell_type": "code",
      "source": [
        "df_expanded = df_expanded[df_expanded['TotalCharges'].notnull()]\n"
      ],
      "metadata": {
        "id": "A53GUK_dDcUp"
      },
      "execution_count": 18,
      "outputs": []
    },
    {
      "cell_type": "code",
      "source": [
        "df_expanded['TotalCharges'] = df_expanded['TotalCharges'].fillna(0)\n"
      ],
      "metadata": {
        "id": "B914cD10DjUG"
      },
      "execution_count": 19,
      "outputs": []
    },
    {
      "cell_type": "code",
      "source": [
        "# Verificar duplicatas no DataFrame\n",
        "duplicatas = df_expanded.duplicated()\n",
        "print(f\"Número de registros duplicados: {duplicatas.sum()}\")\n",
        "\n",
        "# Ver as duplicatas, se houver\n",
        "df_expanded[duplicatas]\n"
      ],
      "metadata": {
        "colab": {
          "base_uri": "https://localhost:8080/",
          "height": 116
        },
        "id": "bZxVFvgxDmqs",
        "outputId": "45dd7dfc-6ee4-4cce-8cf6-910ad744e61f"
      },
      "execution_count": 20,
      "outputs": [
        {
          "output_type": "stream",
          "name": "stdout",
          "text": [
            "Número de registros duplicados: 0\n"
          ]
        },
        {
          "output_type": "execute_result",
          "data": {
            "text/plain": [
              "Empty DataFrame\n",
              "Columns: [customerID, Churn, gender, SeniorCitizen, Partner, Dependents, tenure, PhoneService, MultipleLines, InternetService, OnlineSecurity, OnlineBackup, DeviceProtection, TechSupport, StreamingTV, StreamingMovies, Contract, PaperlessBilling, PaymentMethod, MonthlyCharges, TotalCharges]\n",
              "Index: []\n",
              "\n",
              "[0 rows x 21 columns]"
            ],
            "text/html": [
              "\n",
              "  <div id=\"df-3381a9dc-6d15-4ee7-9981-55278ac7323f\" class=\"colab-df-container\">\n",
              "    <div>\n",
              "<style scoped>\n",
              "    .dataframe tbody tr th:only-of-type {\n",
              "        vertical-align: middle;\n",
              "    }\n",
              "\n",
              "    .dataframe tbody tr th {\n",
              "        vertical-align: top;\n",
              "    }\n",
              "\n",
              "    .dataframe thead th {\n",
              "        text-align: right;\n",
              "    }\n",
              "</style>\n",
              "<table border=\"1\" class=\"dataframe\">\n",
              "  <thead>\n",
              "    <tr style=\"text-align: right;\">\n",
              "      <th></th>\n",
              "      <th>customerID</th>\n",
              "      <th>Churn</th>\n",
              "      <th>gender</th>\n",
              "      <th>SeniorCitizen</th>\n",
              "      <th>Partner</th>\n",
              "      <th>Dependents</th>\n",
              "      <th>tenure</th>\n",
              "      <th>PhoneService</th>\n",
              "      <th>MultipleLines</th>\n",
              "      <th>InternetService</th>\n",
              "      <th>...</th>\n",
              "      <th>OnlineBackup</th>\n",
              "      <th>DeviceProtection</th>\n",
              "      <th>TechSupport</th>\n",
              "      <th>StreamingTV</th>\n",
              "      <th>StreamingMovies</th>\n",
              "      <th>Contract</th>\n",
              "      <th>PaperlessBilling</th>\n",
              "      <th>PaymentMethod</th>\n",
              "      <th>MonthlyCharges</th>\n",
              "      <th>TotalCharges</th>\n",
              "    </tr>\n",
              "  </thead>\n",
              "  <tbody>\n",
              "  </tbody>\n",
              "</table>\n",
              "<p>0 rows × 21 columns</p>\n",
              "</div>\n",
              "    <div class=\"colab-df-buttons\">\n",
              "\n",
              "  <div class=\"colab-df-container\">\n",
              "    <button class=\"colab-df-convert\" onclick=\"convertToInteractive('df-3381a9dc-6d15-4ee7-9981-55278ac7323f')\"\n",
              "            title=\"Convert this dataframe to an interactive table.\"\n",
              "            style=\"display:none;\">\n",
              "\n",
              "  <svg xmlns=\"http://www.w3.org/2000/svg\" height=\"24px\" viewBox=\"0 -960 960 960\">\n",
              "    <path d=\"M120-120v-720h720v720H120Zm60-500h600v-160H180v160Zm220 220h160v-160H400v160Zm0 220h160v-160H400v160ZM180-400h160v-160H180v160Zm440 0h160v-160H620v160ZM180-180h160v-160H180v160Zm440 0h160v-160H620v160Z\"/>\n",
              "  </svg>\n",
              "    </button>\n",
              "\n",
              "  <style>\n",
              "    .colab-df-container {\n",
              "      display:flex;\n",
              "      gap: 12px;\n",
              "    }\n",
              "\n",
              "    .colab-df-convert {\n",
              "      background-color: #E8F0FE;\n",
              "      border: none;\n",
              "      border-radius: 50%;\n",
              "      cursor: pointer;\n",
              "      display: none;\n",
              "      fill: #1967D2;\n",
              "      height: 32px;\n",
              "      padding: 0 0 0 0;\n",
              "      width: 32px;\n",
              "    }\n",
              "\n",
              "    .colab-df-convert:hover {\n",
              "      background-color: #E2EBFA;\n",
              "      box-shadow: 0px 1px 2px rgba(60, 64, 67, 0.3), 0px 1px 3px 1px rgba(60, 64, 67, 0.15);\n",
              "      fill: #174EA6;\n",
              "    }\n",
              "\n",
              "    .colab-df-buttons div {\n",
              "      margin-bottom: 4px;\n",
              "    }\n",
              "\n",
              "    [theme=dark] .colab-df-convert {\n",
              "      background-color: #3B4455;\n",
              "      fill: #D2E3FC;\n",
              "    }\n",
              "\n",
              "    [theme=dark] .colab-df-convert:hover {\n",
              "      background-color: #434B5C;\n",
              "      box-shadow: 0px 1px 3px 1px rgba(0, 0, 0, 0.15);\n",
              "      filter: drop-shadow(0px 1px 2px rgba(0, 0, 0, 0.3));\n",
              "      fill: #FFFFFF;\n",
              "    }\n",
              "  </style>\n",
              "\n",
              "    <script>\n",
              "      const buttonEl =\n",
              "        document.querySelector('#df-3381a9dc-6d15-4ee7-9981-55278ac7323f button.colab-df-convert');\n",
              "      buttonEl.style.display =\n",
              "        google.colab.kernel.accessAllowed ? 'block' : 'none';\n",
              "\n",
              "      async function convertToInteractive(key) {\n",
              "        const element = document.querySelector('#df-3381a9dc-6d15-4ee7-9981-55278ac7323f');\n",
              "        const dataTable =\n",
              "          await google.colab.kernel.invokeFunction('convertToInteractive',\n",
              "                                                    [key], {});\n",
              "        if (!dataTable) return;\n",
              "\n",
              "        const docLinkHtml = 'Like what you see? Visit the ' +\n",
              "          '<a target=\"_blank\" href=https://colab.research.google.com/notebooks/data_table.ipynb>data table notebook</a>'\n",
              "          + ' to learn more about interactive tables.';\n",
              "        element.innerHTML = '';\n",
              "        dataTable['output_type'] = 'display_data';\n",
              "        await google.colab.output.renderOutput(dataTable, element);\n",
              "        const docLink = document.createElement('div');\n",
              "        docLink.innerHTML = docLinkHtml;\n",
              "        element.appendChild(docLink);\n",
              "      }\n",
              "    </script>\n",
              "  </div>\n",
              "\n",
              "\n",
              "    </div>\n",
              "  </div>\n"
            ],
            "application/vnd.google.colaboratory.intrinsic+json": {
              "type": "dataframe"
            }
          },
          "metadata": {},
          "execution_count": 20
        }
      ]
    },
    {
      "cell_type": "code",
      "source": [
        "# Remover espaços extras de todas as colunas tipo 'object'\n",
        "for col in df_expanded.select_dtypes(include='object').columns:\n",
        "    df_expanded[col] = df_expanded[col].str.strip()\n"
      ],
      "metadata": {
        "id": "5DURSYYGDqtg"
      },
      "execution_count": 21,
      "outputs": []
    },
    {
      "cell_type": "code",
      "source": [
        "# Listar valores únicos por coluna categórica\n",
        "for col in df_expanded.select_dtypes(include='object').columns:\n",
        "    print(f\"\\nColuna: {col}\")\n",
        "    print(df_expanded[col].value_counts())\n"
      ],
      "metadata": {
        "colab": {
          "base_uri": "https://localhost:8080/"
        },
        "id": "LZozj-glDtZT",
        "outputId": "0fb8cfb9-a7b4-4287-e0ae-13d40491a877"
      },
      "execution_count": 22,
      "outputs": [
        {
          "output_type": "stream",
          "name": "stdout",
          "text": [
            "\n",
            "Coluna: customerID\n",
            "customerID\n",
            "9995-HOTOH    1\n",
            "0002-ORFBO    1\n",
            "0003-MKNFE    1\n",
            "0004-TLHLJ    1\n",
            "0011-IGKFF    1\n",
            "             ..\n",
            "0018-NYROU    1\n",
            "0017-IUDMW    1\n",
            "0017-DINOC    1\n",
            "0016-QLJIS    1\n",
            "0015-UOCOJ    1\n",
            "Name: count, Length: 7256, dtype: int64\n",
            "\n",
            "Coluna: Churn\n",
            "Churn\n",
            "No     5163\n",
            "Yes    1869\n",
            "        224\n",
            "Name: count, dtype: int64\n",
            "\n",
            "Coluna: gender\n",
            "gender\n",
            "Male      3669\n",
            "Female    3587\n",
            "Name: count, dtype: int64\n",
            "\n",
            "Coluna: Partner\n",
            "Partner\n",
            "No     3747\n",
            "Yes    3509\n",
            "Name: count, dtype: int64\n",
            "\n",
            "Coluna: Dependents\n",
            "Dependents\n",
            "No     5086\n",
            "Yes    2170\n",
            "Name: count, dtype: int64\n",
            "\n",
            "Coluna: PhoneService\n",
            "PhoneService\n",
            "Yes    6551\n",
            "No      705\n",
            "Name: count, dtype: int64\n",
            "\n",
            "Coluna: MultipleLines\n",
            "MultipleLines\n",
            "No     4195\n",
            "Yes    3061\n",
            "Name: count, dtype: int64\n",
            "\n",
            "Coluna: InternetService\n",
            "InternetService\n",
            "Fiber optic    3198\n",
            "DSL            2483\n",
            "No             1575\n",
            "Name: count, dtype: int64\n",
            "\n",
            "Coluna: OnlineSecurity\n",
            "OnlineSecurity\n",
            "No     5182\n",
            "Yes    2074\n",
            "Name: count, dtype: int64\n",
            "\n",
            "Coluna: OnlineBackup\n",
            "OnlineBackup\n",
            "No     4756\n",
            "Yes    2500\n",
            "Name: count, dtype: int64\n",
            "\n",
            "Coluna: DeviceProtection\n",
            "DeviceProtection\n",
            "No     4769\n",
            "Yes    2487\n",
            "Name: count, dtype: int64\n",
            "\n",
            "Coluna: TechSupport\n",
            "TechSupport\n",
            "No     5156\n",
            "Yes    2100\n",
            "Name: count, dtype: int64\n",
            "\n",
            "Coluna: StreamingTV\n",
            "StreamingTV\n",
            "No     4470\n",
            "Yes    2786\n",
            "Name: count, dtype: int64\n",
            "\n",
            "Coluna: StreamingMovies\n",
            "StreamingMovies\n",
            "No     4441\n",
            "Yes    2815\n",
            "Name: count, dtype: int64\n",
            "\n",
            "Coluna: Contract\n",
            "Contract\n",
            "Month-to-month    4005\n",
            "Two year          1733\n",
            "One year          1518\n",
            "Name: count, dtype: int64\n",
            "\n",
            "Coluna: PaperlessBilling\n",
            "PaperlessBilling\n",
            "Yes    4308\n",
            "No     2948\n",
            "Name: count, dtype: int64\n",
            "\n",
            "Coluna: PaymentMethod\n",
            "PaymentMethod\n",
            "Electronic check             2445\n",
            "Mailed check                 1657\n",
            "Bank transfer (automatic)    1587\n",
            "Credit card (automatic)      1567\n",
            "Name: count, dtype: int64\n"
          ]
        }
      ]
    },
    {
      "cell_type": "code",
      "source": [
        "# Uniformizar valores binários para Yes/No\n",
        "binarias = ['Partner', 'Dependents', 'PhoneService', 'PaperlessBilling', 'Churn']\n",
        "for col in binarias:\n",
        "    df_expanded[col] = df_expanded[col].replace({'Yes': 'Yes', 'No': 'No'})  # redundante, mas ajuda se houve erro\n",
        "\n",
        "# Uniformizar categoria 'gender' se necessário\n",
        "df_expanded['gender'] = df_expanded['gender'].str.capitalize()\n"
      ],
      "metadata": {
        "id": "07AJGexSDwmA"
      },
      "execution_count": 23,
      "outputs": []
    },
    {
      "cell_type": "code",
      "source": [
        "# Remover registros com TotalCharges nulo\n",
        "df_expanded = df_expanded[df_expanded['TotalCharges'].notnull()]\n"
      ],
      "metadata": {
        "id": "eSGs5VANEOhg"
      },
      "execution_count": 24,
      "outputs": []
    },
    {
      "cell_type": "code",
      "source": [
        "# Remover duplicatas\n",
        "df_expanded = df_expanded.drop_duplicates()\n"
      ],
      "metadata": {
        "id": "tYGPA4gZEQE-"
      },
      "execution_count": 25,
      "outputs": []
    },
    {
      "cell_type": "code",
      "source": [
        "# Remover espaços em branco nas colunas de texto\n",
        "for col in df_expanded.select_dtypes(include='object').columns:\n",
        "    df_expanded[col] = df_expanded[col].str.strip()\n"
      ],
      "metadata": {
        "id": "vORQskRWETEF"
      },
      "execution_count": 26,
      "outputs": []
    },
    {
      "cell_type": "code",
      "source": [
        "# Substituir 'No internet service' e 'No phone service' por 'No'\n",
        "cols_binarias = ['MultipleLines','OnlineSecurity','OnlineBackup',\n",
        "                 'DeviceProtection','TechSupport','StreamingTV','StreamingMovies']\n",
        "\n",
        "for col in cols_binarias:\n",
        "    df_expanded[col] = df_expanded[col].replace({'No internet service':'No', 'No phone service':'No'})\n",
        "\n",
        "# Corrigir possíveis erros em Churn\n",
        "df_expanded['Churn'] = df_expanded['Churn'].str.strip()\n"
      ],
      "metadata": {
        "id": "Igqf_8kfEVVd"
      },
      "execution_count": 27,
      "outputs": []
    },
    {
      "cell_type": "code",
      "source": [
        "# Verificar tipos\n",
        "print(df_expanded.dtypes[['MonthlyCharges', 'TotalCharges', 'tenure']])\n"
      ],
      "metadata": {
        "colab": {
          "base_uri": "https://localhost:8080/"
        },
        "id": "NRtIkJwxEYMQ",
        "outputId": "316a6cca-7aae-40ad-c87f-f10bb63fd1b8"
      },
      "execution_count": 28,
      "outputs": [
        {
          "output_type": "stream",
          "name": "stdout",
          "text": [
            "MonthlyCharges    float64\n",
            "TotalCharges      float64\n",
            "tenure              int64\n",
            "dtype: object\n"
          ]
        }
      ]
    },
    {
      "cell_type": "code",
      "source": [
        "df_expanded['TotalCharges'] = pd.to_numeric(df_expanded['TotalCharges'], errors='coerce')\n"
      ],
      "metadata": {
        "id": "HRJn69iSEclb"
      },
      "execution_count": 29,
      "outputs": []
    },
    {
      "cell_type": "code",
      "source": [
        "print(\"✔️ Valores nulos:\")\n",
        "print(df_expanded.isnull().sum())\n",
        "\n",
        "print(\"\\n✔️ Registros duplicados:\")\n",
        "print(df_expanded.duplicated().sum())\n",
        "\n",
        "print(\"\\n✔️ Valores únicos em 'Churn':\")\n",
        "print(df_expanded['Churn'].value_counts())\n"
      ],
      "metadata": {
        "colab": {
          "base_uri": "https://localhost:8080/"
        },
        "id": "1hSxOqaDEfHu",
        "outputId": "0ee03018-9182-495b-e288-9f3acb2a7b8b"
      },
      "execution_count": 30,
      "outputs": [
        {
          "output_type": "stream",
          "name": "stdout",
          "text": [
            "✔️ Valores nulos:\n",
            "customerID          0\n",
            "Churn               0\n",
            "gender              0\n",
            "SeniorCitizen       0\n",
            "Partner             0\n",
            "Dependents          0\n",
            "tenure              0\n",
            "PhoneService        0\n",
            "MultipleLines       0\n",
            "InternetService     0\n",
            "OnlineSecurity      0\n",
            "OnlineBackup        0\n",
            "DeviceProtection    0\n",
            "TechSupport         0\n",
            "StreamingTV         0\n",
            "StreamingMovies     0\n",
            "Contract            0\n",
            "PaperlessBilling    0\n",
            "PaymentMethod       0\n",
            "MonthlyCharges      0\n",
            "TotalCharges        0\n",
            "dtype: int64\n",
            "\n",
            "✔️ Registros duplicados:\n",
            "0\n",
            "\n",
            "✔️ Valores únicos em 'Churn':\n",
            "Churn\n",
            "No     5163\n",
            "Yes    1869\n",
            "        224\n",
            "Name: count, dtype: int64\n"
          ]
        }
      ]
    },
    {
      "cell_type": "code",
      "source": [
        "# Remover registros com Churn vazio ou nulo\n",
        "df_expanded = df_expanded[df_expanded['Churn'].isin(['Yes', 'No'])]\n"
      ],
      "metadata": {
        "id": "vB5QkbiRF1zf"
      },
      "execution_count": 31,
      "outputs": []
    },
    {
      "cell_type": "code",
      "source": [
        "print(df_expanded['Churn'].value_counts())\n"
      ],
      "metadata": {
        "colab": {
          "base_uri": "https://localhost:8080/"
        },
        "id": "vg60mXuHF41G",
        "outputId": "27fc4537-7ea8-42aa-8fc3-384eda731204"
      },
      "execution_count": 32,
      "outputs": [
        {
          "output_type": "stream",
          "name": "stdout",
          "text": [
            "Churn\n",
            "No     5163\n",
            "Yes    1869\n",
            "Name: count, dtype: int64\n"
          ]
        }
      ]
    },
    {
      "cell_type": "code",
      "source": [
        "print(df_expanded.isnull().sum().sum())        # Total de valores nulos (deve ser 0)\n",
        "print(df_expanded.duplicated().sum())          # Total de duplicados (deve ser 0)\n",
        "print(df_expanded['Churn'].unique())           # Deve retornar apenas ['No', 'Yes']\n"
      ],
      "metadata": {
        "colab": {
          "base_uri": "https://localhost:8080/"
        },
        "id": "gfwKB17rF9I2",
        "outputId": "55d06596-b76a-4186-93e6-d7e0b9d8039d"
      },
      "execution_count": 33,
      "outputs": [
        {
          "output_type": "stream",
          "name": "stdout",
          "text": [
            "0\n",
            "0\n",
            "['No' 'Yes']\n"
          ]
        }
      ]
    },
    {
      "cell_type": "code",
      "source": [
        "df_expanded['Contas_Diarias'] = df_expanded['MonthlyCharges'] / 30\n"
      ],
      "metadata": {
        "id": "RuA1qMWvGQbE"
      },
      "execution_count": 34,
      "outputs": []
    },
    {
      "cell_type": "code",
      "source": [
        "# Criar coluna 'Contas_Diarias'\n",
        "df_expanded['Contas_Diarias'] = df_expanded['MonthlyCharges'] / 30\n",
        "\n",
        "# Verificar as primeiras linhas\n",
        "print(df_expanded[['MonthlyCharges', 'Contas_Diarias']].head())\n"
      ],
      "metadata": {
        "colab": {
          "base_uri": "https://localhost:8080/"
        },
        "id": "wO_JrRsRGT-1",
        "outputId": "da605c66-a423-46b0-e019-b42b40a46234"
      },
      "execution_count": 35,
      "outputs": [
        {
          "output_type": "stream",
          "name": "stdout",
          "text": [
            "   MonthlyCharges  Contas_Diarias\n",
            "0            65.6        2.186667\n",
            "1            59.9        1.996667\n",
            "2            73.9        2.463333\n",
            "3            98.0        3.266667\n",
            "4            83.9        2.796667\n"
          ]
        }
      ]
    },
    {
      "cell_type": "code",
      "source": [
        "print(df_expanded['Contas_Diarias'].describe())\n"
      ],
      "metadata": {
        "colab": {
          "base_uri": "https://localhost:8080/"
        },
        "id": "r3EDhciUGWtF",
        "outputId": "92316adb-f486-4ac0-91ee-e3746084b787"
      },
      "execution_count": 36,
      "outputs": [
        {
          "output_type": "stream",
          "name": "stdout",
          "text": [
            "count    7032.000000\n",
            "mean        2.159940\n",
            "std         1.002866\n",
            "min         0.608333\n",
            "25%         1.186250\n",
            "50%         2.345000\n",
            "75%         2.995417\n",
            "max         3.958333\n",
            "Name: Contas_Diarias, dtype: float64\n"
          ]
        }
      ]
    },
    {
      "cell_type": "code",
      "source": [
        "print(df_expanded[['MonthlyCharges', 'Contas_Diarias']].sample(5))\n",
        "print(\"Valores nulos em Contas_Diarias:\", df_expanded['Contas_Diarias'].isnull().sum())\n"
      ],
      "metadata": {
        "colab": {
          "base_uri": "https://localhost:8080/"
        },
        "id": "yL23vwudGZrb",
        "outputId": "af859899-1f71-42b0-cc09-ea08846b593d"
      },
      "execution_count": 37,
      "outputs": [
        {
          "output_type": "stream",
          "name": "stdout",
          "text": [
            "      MonthlyCharges  Contas_Diarias\n",
            "292            20.55        0.685000\n",
            "2196           82.30        2.743333\n",
            "2565           24.20        0.806667\n",
            "227           106.30        3.543333\n",
            "1390           19.35        0.645000\n",
            "Valores nulos em Contas_Diarias: 0\n"
          ]
        }
      ]
    }
  ]
}